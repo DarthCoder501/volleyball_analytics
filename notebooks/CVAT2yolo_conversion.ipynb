{
 "cells": [
  {
   "cell_type": "code",
   "execution_count": 72,
   "id": "5a603ffb-803d-4448-8bb8-bade29de8b0d",
   "metadata": {
    "tags": []
   },
   "outputs": [],
   "source": [
    "# Reading CVAT xml files for videos.\n",
    "import json\n",
    "from bs4 import BeautifulSoup\n",
    "from os.path import join, isdir, isfile\n",
    "from pathlib import Path, PosixPath\n",
    "import untangle\n",
    "from lxml import objectify\n"
   ]
  },
  {
   "cell_type": "code",
   "execution_count": 117,
   "id": "432c50f3-6878-49b7-86d5-c03aed63341d",
   "metadata": {},
   "outputs": [],
   "source": [
    "data = open('../input/videos/train/annotations/6_classes/2.xml').read().encode('utf-8')\n",
    "bs_data = BeautifulSoup(data, \"xml\")"
   ]
  },
  {
   "cell_type": "code",
   "execution_count": 118,
   "id": "5b098819-9ce2-4f14-8e95-f688b1d3900b",
   "metadata": {
    "collapsed": true,
    "jupyter": {
     "outputs_hidden": true
    },
    "tags": []
   },
   "outputs": [
    {
     "data": {
      "text/plain": [
       "[<image height=\"720\" id=\"0\" name=\"frame_000000\" width=\"1280\">\n",
       " </image>,\n",
       " <image height=\"720\" id=\"1\" name=\"frame_000001\" width=\"1280\">\n",
       " </image>,\n",
       " <image height=\"720\" id=\"2\" name=\"frame_000002\" width=\"1280\">\n",
       " <polygon label=\"ball\" occluded=\"0\" points=\"447.51,368.57;448.30,370.39;449.08,372.35;449.99,374.30;451.16,376.00;453.12,377.04;455.20,377.56;457.29,377.43;458.98,376.26;460.02,374.30;460.67,372.35;461.06,370.39;461.45,368.31;461.45,366.22;461.71,364.27;461.19,362.19;459.76,360.75;457.81,359.71;455.85,358.93;453.77,358.54;451.81,359.32;450.12,360.62;449.21,362.45;448.43,364.53;447.91,366.49\" source=\"manual\" z_order=\"0\">\n",
       " </polygon>\n",
       " </image>,\n",
       " <image height=\"720\" id=\"3\" name=\"frame_000003\" width=\"1280\">\n",
       " <polygon label=\"ball\" occluded=\"0\" points=\"448.07,354.42;448.97,358.25;451.44,361.40;454.60,363.42;457.97,364.10;461.35,363.20;462.70,360.05;463.15,356.45;463.37,353.07;463.15,349.69;462.47,346.32;459.77,343.62;456.17,343.16;452.79,343.62;449.64,344.97;448.29,348.12;447.62,351.49\" source=\"manual\" z_order=\"0\">\n",
       " </polygon>\n",
       " </image>,\n",
       " <image height=\"720\" id=\"4\" name=\"frame_000004\" width=\"1280\">\n",
       " <polygon label=\"ball\" occluded=\"0\" points=\"446.49,333.04;446.04,336.64;446.04,340.46;446.49,343.84;449.64,345.64;453.02,346.32;457.07,346.09;459.77,343.84;460.45,340.01;460.45,336.41;459.55,332.58;457.75,329.66;454.37,328.98;450.99,329.43;447.62,330.33\" source=\"manual\" z_order=\"0\">\n",
       " </polygon>\n",
       " </image>,\n",
       " <image height=\"720\" id=\"5\" name=\"frame_000005\" width=\"1280\">\n",
       " </image>,\n",
       " <image height=\"720\" id=\"6\" name=\"frame_000006\" width=\"1280\">\n",
       " </image>,\n",
       " <image height=\"720\" id=\"7\" name=\"frame_000007\" width=\"1280\">\n",
       " </image>,\n",
       " <image height=\"720\" id=\"8\" name=\"frame_000008\" width=\"1280\">\n",
       " </image>,\n",
       " <image height=\"720\" id=\"9\" name=\"frame_000009\" width=\"1280\">\n",
       " </image>,\n",
       " <image height=\"720\" id=\"10\" name=\"frame_000010\" width=\"1280\">\n",
       " </image>,\n",
       " <image height=\"720\" id=\"11\" name=\"frame_000011\" width=\"1280\">\n",
       " </image>,\n",
       " <image height=\"720\" id=\"12\" name=\"frame_000012\" width=\"1280\">\n",
       " </image>,\n",
       " <image height=\"720\" id=\"13\" name=\"frame_000013\" width=\"1280\">\n",
       " </image>,\n",
       " <image height=\"720\" id=\"14\" name=\"frame_000014\" width=\"1280\">\n",
       " </image>,\n",
       " <image height=\"720\" id=\"15\" name=\"frame_000015\" width=\"1280\">\n",
       " </image>,\n",
       " <image height=\"720\" id=\"16\" name=\"frame_000016\" width=\"1280\">\n",
       " </image>,\n",
       " <image height=\"720\" id=\"17\" name=\"frame_000017\" width=\"1280\">\n",
       " </image>,\n",
       " <image height=\"720\" id=\"18\" name=\"frame_000018\" width=\"1280\">\n",
       " </image>,\n",
       " <image height=\"720\" id=\"19\" name=\"frame_000019\" width=\"1280\">\n",
       " </image>,\n",
       " <image height=\"720\" id=\"20\" name=\"frame_000020\" width=\"1280\">\n",
       " </image>,\n",
       " <image height=\"720\" id=\"21\" name=\"frame_000021\" width=\"1280\">\n",
       " </image>,\n",
       " <image height=\"720\" id=\"22\" name=\"frame_000022\" width=\"1280\">\n",
       " </image>,\n",
       " <image height=\"720\" id=\"23\" name=\"frame_000023\" width=\"1280\">\n",
       " </image>,\n",
       " <image height=\"720\" id=\"24\" name=\"frame_000024\" width=\"1280\">\n",
       " </image>,\n",
       " <image height=\"720\" id=\"25\" name=\"frame_000025\" width=\"1280\">\n",
       " </image>,\n",
       " <image height=\"720\" id=\"26\" name=\"frame_000026\" width=\"1280\">\n",
       " </image>,\n",
       " <image height=\"720\" id=\"27\" name=\"frame_000027\" width=\"1280\">\n",
       " </image>,\n",
       " <image height=\"720\" id=\"28\" name=\"frame_000028\" width=\"1280\">\n",
       " </image>,\n",
       " <image height=\"720\" id=\"29\" name=\"frame_000029\" width=\"1280\">\n",
       " </image>,\n",
       " <image height=\"720\" id=\"30\" name=\"frame_000030\" width=\"1280\">\n",
       " </image>,\n",
       " <image height=\"720\" id=\"31\" name=\"frame_000031\" width=\"1280\">\n",
       " </image>,\n",
       " <image height=\"720\" id=\"32\" name=\"frame_000032\" width=\"1280\">\n",
       " </image>,\n",
       " <image height=\"720\" id=\"33\" name=\"frame_000033\" width=\"1280\">\n",
       " </image>,\n",
       " <image height=\"720\" id=\"34\" name=\"frame_000034\" width=\"1280\">\n",
       " </image>,\n",
       " <image height=\"720\" id=\"35\" name=\"frame_000035\" width=\"1280\">\n",
       " </image>,\n",
       " <image height=\"720\" id=\"36\" name=\"frame_000036\" width=\"1280\">\n",
       " </image>,\n",
       " <image height=\"720\" id=\"37\" name=\"frame_000037\" width=\"1280\">\n",
       " <polygon label=\"ball\" occluded=\"0\" points=\"431.18,241.64;433.21,244.57;434.11,247.94;434.33,251.54;433.43,254.92;430.28,256.50;426.68,256.50;423.08,256.50;419.70,255.37;419.03,251.99;418.80,248.62;419.48,245.24;420.83,242.09;424.20,240.29;427.58,240.06;429.61,240.29\" source=\"manual\" z_order=\"0\">\n",
       " </polygon>\n",
       " </image>,\n",
       " <image height=\"720\" id=\"38\" name=\"frame_000038\" width=\"1280\">\n",
       " <polygon label=\"ball\" occluded=\"0\" points=\"430.28,263.25;426.91,263.03;423.53,262.58;420.15,262.35;418.13,259.42;418.58,256.05;419.93,252.67;422.63,250.42;426.01,249.74;429.61,249.52;433.21,250.64;435.91,252.90;438.61,255.37;439.51,258.75;437.94,261.90;434.79,263.25\" source=\"manual\" z_order=\"0\">\n",
       " </polygon>\n",
       " <box label=\"serve\" occluded=\"0\" source=\"manual\" xbr=\"457.92\" xtl=\"401.90\" ybr=\"429.91\" ytl=\"246.93\" z_order=\"0\">\n",
       " <attribute name=\"type\">topspin</attribute>\n",
       " </box>\n",
       " </image>,\n",
       " <image height=\"720\" id=\"39\" name=\"frame_000039\" width=\"1280\">\n",
       " <polygon label=\"ball\" occluded=\"0\" points=\"431.41,254.02;431.86,257.40;433.21,261.00;436.14,262.80;439.51,263.03;442.89,262.12;446.49,260.77;449.42,258.75;450.77,255.37;451.67,251.99;450.99,248.62;448.52,245.92;445.14,244.34;441.54,244.79;438.16,245.69;434.56,246.37;431.41,247.72;430.96,251.09\" source=\"manual\" z_order=\"0\">\n",
       " </polygon>\n",
       " </image>,\n",
       " <image height=\"720\" id=\"40\" name=\"frame_000040\" width=\"1280\">\n",
       " <polygon label=\"ball\" occluded=\"0\" points=\"454.73,256.72;450.68,256.18;446.08,256.18;442.03,255.91;439.87,252.40;440.41,248.35;443.11,245.11;446.63,242.94;450.41,241.05;454.73,240.24;458.78,241.05;461.75,244.03;463.10,248.08;462.83,252.13;459.32,254.83\" source=\"manual\" z_order=\"0\">\n",
       " </polygon>\n",
       " </image>,\n",
       " <image height=\"720\" id=\"41\" name=\"frame_000041\" width=\"1280\">\n",
       " <polygon label=\"ball\" occluded=\"0\" points=\"471.93,254.92;467.65,254.92;464.05,254.92;460.45,254.92;457.75,252.67;456.17,249.52;455.50,246.14;455.95,242.54;458.20,239.84;461.57,238.26;465.18,237.36;468.55,236.91;472.38,236.91;476.21,237.14;479.81,238.94;481.38,242.09;481.61,245.47;479.58,248.84;477.11,251.32;473.95,252.90\" source=\"manual\" z_order=\"0\">\n",
       " </polygon>\n",
       " </image>,\n",
       " <image height=\"720\" id=\"42\" name=\"frame_000042\" width=\"1280\">\n",
       " <polygon label=\"ball\" occluded=\"0\" points=\"490.06,253.38;487.40,253.54;484.90,253.54;482.40,253.23;479.90,252.76;477.56,251.98;475.37,250.72;473.33,249.32;471.77,247.44;471.62,244.94;472.08,242.60;472.40,240.25;474.27,238.69;476.31,237.28;478.65,236.03;481.31,235.40;483.65,235.25;486.31,235.25;488.81,235.25;491.63,235.40;494.28,235.87;496.00,237.91;496.78,240.41;497.41,243.06;497.41,246.04;497.10,248.54;495.38,250.57;493.19,251.98\" source=\"manual\" z_order=\"0\">\n",
       " </polygon>\n",
       " </image>,\n",
       " <image height=\"720\" id=\"43\" name=\"frame_000043\" width=\"1280\">\n",
       " <polygon label=\"ball\" occluded=\"0\" points=\"507.73,255.26;505.07,255.41;502.57,255.41;499.91,255.41;497.57,255.57;494.91,255.57;492.41,255.26;490.06,254.01;488.50,251.98;487.40,249.79;488.19,247.29;488.66,244.94;488.34,242.44;488.03,240.09;488.81,237.75;490.84,236.19;493.19,235.40;495.69,234.94;498.19,234.94;500.54,235.40;503.19,236.03;505.69,236.50;508.04,237.12;510.38,237.75;512.73,239.16;513.67,241.66;513.98,244.00;513.98,246.50;513.35,248.85;511.95,250.88;511.64,253.23;510.23,255.26\" source=\"manual\" z_order=\"0\">\n",
       " </polygon>\n",
       " </image>,\n",
       " <image height=\"720\" id=\"44\" name=\"frame_000044\" width=\"1280\">\n",
       " <polygon label=\"ball\" occluded=\"0\" points=\"516.17,255.42;513.67,255.57;511.01,255.41;508.66,254.32;506.95,252.29;506.01,250.10;505.54,247.60;505.23,245.25;505.23,242.75;506.01,240.41;507.41,238.38;509.76,237.59;512.26,237.12;514.92,237.28;517.42,237.91;519.76,238.69;522.42,239.63;524.77,240.09;527.27,241.03;528.52,243.22;528.83,245.72;528.83,248.22;528.67,250.72;526.96,252.76;524.77,253.85;522.42,254.63;520.08,254.95;517.42,254.95\" source=\"manual\" z_order=\"0\">\n",
       " </polygon>\n",
       " </image>,\n",
       " <image height=\"720\" id=\"45\" name=\"frame_000045\" width=\"1280\">\n",
       " <polygon label=\"ball\" occluded=\"0\" points=\"539.93,258.07;537.27,258.07;534.62,257.76;532.11,257.76;529.30,257.76;526.80,257.29;525.08,255.26;523.99,253.07;523.99,250.41;524.30,247.60;525.39,244.78;526.49,242.28;528.21,240.56;530.71,239.94;533.52,240.09;536.33,240.09;538.99,240.41;541.65,240.41;543.99,241.03;546.34,241.66;548.68,242.44;550.87,243.53;552.59,245.57;553.22,247.91;552.75,250.26;551.50,252.44;549.15,253.23;547.43,254.95;545.71,256.67;543.53,257.76;541.49,258.07\" source=\"manual\" z_order=\"0\">\n",
       " </polygon>\n",
       " </image>,\n",
       " <image height=\"720\" id=\"46\" name=\"frame_000046\" width=\"1280\">\n",
       " <polygon label=\"ball\" occluded=\"0\" points=\"562.35,265.95;559.35,265.95;556.34,265.01;553.53,264.26;551.09,262.39;548.84,260.51;546.97,257.88;545.84,255.07;544.71,252.26;544.90,249.44;547.34,247.75;550.15,247.00;553.34,246.44;556.16,245.88;559.53,245.88;562.54,246.25;565.35,246.82;568.16,247.94;570.79,249.26;572.10,251.88;572.48,254.88;573.23,258.07;573.23,261.26;571.35,263.89;568.73,265.20;565.91,266.14\" source=\"manual\" z_order=\"0\">\n",
       " </polygon>\n",
       " </image>,\n",
       " <image height=\"720\" id=\"47\" name=\"frame_000047\" width=\"1280\">\n",
       " <polygon label=\"ball\" occluded=\"0\" points=\"586.92,274.02;582.98,273.27;579.79,273.27;576.98,273.08;573.98,272.33;571.54,270.64;569.66,268.20;568.35,265.58;567.60,262.76;567.41,259.95;567.23,257.13;569.66,255.45;572.85,254.70;576.04,254.51;579.23,254.51;582.04,255.07;585.05,255.26;588.05,256.20;590.49,257.88;592.17,260.70;593.49,263.51;593.68,266.51;592.93,269.33;591.99,272.14;589.55,273.64\" source=\"manual\" z_order=\"0\">\n",
       " </polygon>\n",
       " </image>,\n",
       " <image height=\"720\" id=\"48\" name=\"frame_000048\" width=\"1280\">\n",
       " <polygon label=\"ball\" occluded=\"0\" points=\"604.02,286.05;600.90,285.43;597.46,284.18;595.11,281.52;593.86,279.49;592.77,276.99;591.67,274.17;591.05,271.52;590.27,268.86;589.64,266.51;590.11,264.01;591.52,261.98;593.86,261.20;596.52,260.73;599.02,260.57;601.37,260.73;604.49,260.89;607.15,261.20;609.34,262.14;611.53,263.54;613.87,265.26;615.91,266.67;617.63,269.02;619.34,271.52;620.13,274.02;620.28,277.14;619.66,279.49;618.72,281.83;616.84,283.55;614.65,284.65;612.15,285.43;609.50,285.43;606.99,285.12\" source=\"manual\" z_order=\"0\">\n",
       " </polygon>\n",
       " </image>,\n",
       " <image height=\"720\" id=\"49\" name=\"frame_000049\" width=\"1280\">\n",
       " <polygon label=\"ball\" occluded=\"0\" points=\"631.07,296.69;628.72,295.75;625.91,294.50;623.41,292.93;620.91,291.21;618.88,289.96;616.53,288.56;614.34,286.52;613.40,283.87;613.09,281.37;612.94,278.71;613.40,276.36;614.19,274.02;616.06,271.99;618.72,270.89;621.06,270.42;623.41,270.58;626.22,270.58;629.35,271.52;632.01,272.77;634.20,274.49;635.92,276.52;637.63,278.55;638.73,280.74;639.67,282.93;640.29,285.43;640.61,287.93;640.45,290.59;639.67,292.93;637.79,294.50;635.60,295.59;633.26,296.22\" source=\"manual\" z_order=\"0\">\n",
       " </polygon>\n",
       " </image>]"
      ]
     },
     "execution_count": 118,
     "metadata": {},
     "output_type": "execute_result"
    }
   ],
   "source": [
    "images = bs_data.find_all('image')\n",
    "images[0:50]"
   ]
  },
  {
   "cell_type": "code",
   "execution_count": 141,
   "id": "b39fa58c-8e80-4265-8ad9-535f79f693c4",
   "metadata": {
    "tags": []
   },
   "outputs": [
    {
     "data": {
      "text/plain": [
       "<label>\n",
       "<name>set</name>\n",
       "<color>#f70404</color>\n",
       "<type>any</type>\n",
       "<attributes>\n",
       "<attribute>\n",
       "<name>type</name>\n",
       "<mutable>False</mutable>\n",
       "<input_type>select</input_type>\n",
       "<default_value>two-handed</default_value>\n",
       "<values>two-handed\n",
       "one-handed\n",
       "fore-arms</values>\n",
       "</attribute>\n",
       "</attributes>\n",
       "</label>"
      ]
     },
     "execution_count": 141,
     "metadata": {},
     "output_type": "execute_result"
    }
   ],
   "source": [
    "labels = bs_data.find_all('label')\n",
    "f = labels[3]\n",
    "f"
   ]
  },
  {
   "cell_type": "code",
   "execution_count": 150,
   "id": "26c0345f-e1d8-4334-9029-01846f01411c",
   "metadata": {
    "tags": []
   },
   "outputs": [],
   "source": [
    "h = f.attributes.find_all('attribute')[0].values"
   ]
  },
  {
   "cell_type": "code",
   "execution_count": 158,
   "id": "08ffa906-0294-4d39-8e95-69dc8b4fd10f",
   "metadata": {
    "tags": []
   },
   "outputs": [
    {
     "data": {
      "text/plain": [
       "['two-handed', 'one-handed', 'fore-arms']"
      ]
     },
     "execution_count": 158,
     "metadata": {},
     "output_type": "execute_result"
    }
   ],
   "source": [
    "values = h.contents[0].split('\\n')"
   ]
  },
  {
   "cell_type": "code",
   "execution_count": 154,
   "id": "e53f024a-18a0-4bc0-ab89-134992aec5fb",
   "metadata": {
    "tags": []
   },
   "outputs": [
    {
     "data": {
      "text/plain": [
       "['two-handed\\none-handed\\nfore-arms']"
      ]
     },
     "execution_count": 154,
     "metadata": {},
     "output_type": "execute_result"
    }
   ],
   "source": [
    "[t for t in h.children]"
   ]
  },
  {
   "cell_type": "code",
   "execution_count": 133,
   "id": "e18826e1-31f2-4327-af45-cd3a5802c661",
   "metadata": {
    "tags": []
   },
   "outputs": [
    {
     "data": {
      "text/plain": [
       "<name>ball</name>"
      ]
     },
     "execution_count": 133,
     "metadata": {},
     "output_type": "execute_result"
    }
   ],
   "source": [
    "\n",
    "f.findChild('name')a"
   ]
  },
  {
   "cell_type": "code",
   "execution_count": 50,
   "id": "72f3b5a7-ec64-4603-957c-67a62d67438c",
   "metadata": {
    "tags": []
   },
   "outputs": [],
   "source": [
    "# label = bs_data.find_all('labels')\n",
    "# labels = label[0].find_all('label')\n",
    "labels = bs_data.find('labels')\n",
    "f = labels.find_all('label')[0]\n",
    "# print(labels)\n",
    "# for label in labels:\n",
    "#     # print(label)\n",
    "#     print(label.name)\n",
    "#     print(label.type)\n",
    "#     print(label.color)\n",
    "#     print(label.attributes)\n",
    "    \n",
    "    # print(label.attributes)"
   ]
  },
  {
   "cell_type": "code",
   "execution_count": 69,
   "id": "2a0da930-a8cb-4340-bfa0-247df73b7068",
   "metadata": {
    "tags": []
   },
   "outputs": [
    {
     "data": {
      "text/plain": [
       "<bound method PageElement.find_next_siblings of <label>\n",
       "<name>ball</name>\n",
       "<color>#03c2e9</color>\n",
       "<type>any</type>\n",
       "<attributes>\n",
       "</attributes>\n",
       "</label>>"
      ]
     },
     "execution_count": 69,
     "metadata": {},
     "output_type": "execute_result"
    }
   ],
   "source": [
    "f.find_next_siblings"
   ]
  },
  {
   "cell_type": "code",
   "execution_count": 62,
   "id": "f8a9e2d0-61d7-4656-a983-f8fcf409fd4b",
   "metadata": {
    "tags": []
   },
   "outputs": [],
   "source": [
    "p = f.findChild('name')"
   ]
  },
  {
   "cell_type": "code",
   "execution_count": 67,
   "id": "74f1a95e-3176-4091-8f13-b06ac07b429d",
   "metadata": {
    "tags": []
   },
   "outputs": [
    {
     "data": {
      "text/plain": [
       "'ball'"
      ]
     },
     "execution_count": 67,
     "metadata": {},
     "output_type": "execute_result"
    }
   ],
   "source": [
    "p.text"
   ]
  },
  {
   "cell_type": "code",
   "execution_count": null,
   "id": "bf291ef5-7c6a-4bf9-a285-1f88f73cce34",
   "metadata": {},
   "outputs": [],
   "source": []
  }
 ],
 "metadata": {
  "kernelspec": {
   "display_name": "python-3.11",
   "language": "python",
   "name": "py311"
  },
  "language_info": {
   "codemirror_mode": {
    "name": "ipython",
    "version": 3
   },
   "file_extension": ".py",
   "mimetype": "text/x-python",
   "name": "python",
   "nbconvert_exporter": "python",
   "pygments_lexer": "ipython3",
   "version": "3.11.5"
  }
 },
 "nbformat": 4,
 "nbformat_minor": 5
}
