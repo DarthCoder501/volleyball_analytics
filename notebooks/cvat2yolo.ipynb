{
 "cells": [
  {
   "cell_type": "code",
   "execution_count": 1,
   "id": "177437bd-9432-4afe-be91-6f1bc4c70599",
   "metadata": {
    "tags": []
   },
   "outputs": [],
   "source": [
    "import json\n",
    "import matplotlib.pyplot as plt\n",
    "import numpy as np\n",
    "from os import makedirs\n",
    "from os.path import isfile, join\n",
    "from pathlib import Path, PosixPath\n",
    "import cv2\n",
    "import bs4\n",
    "from bs4 import BeautifulSoup\n",
    "from shutil import copy2\n",
    "from tqdm import tqdm\n",
    "from tqdm.notebook import tqdm as ntqdm\n",
    "from random import shuffle\n",
    "\n",
    "from numpy.typing import ArrayLike\n",
    "from typing import Any, Iterable, List, Tuple\n",
    "\n",
    "plt.rcParams['figure.figsize'] = [20, 15]"
   ]
  },
  {
   "cell_type": "code",
   "execution_count": 29,
   "id": "de3ff114-53d5-406b-896f-5762f021841f",
   "metadata": {
    "tags": []
   },
   "outputs": [],
   "source": [
    "\"\"\"\n",
    "Yolo format \n",
    "\n",
    "dataset.yaml\n",
    "├── images\n",
    "│   ├── test\n",
    "│   ├── train\n",
    "│   └── val\n",
    "└── labels\n",
    "    ├── test\n",
    "    ├── train\n",
    "    └── val\n",
    "    \n",
    "\n",
    "\"\"\"\n",
    "\n",
    "\n",
    "class Bbox:\n",
    "    def __init__(self, xyxy: list | tuple, label: int):\n",
    "        self.x1 = int(xyxy[0])\n",
    "        self.y1 = int(xyxy[1])\n",
    "        self.x2 = int(xyxy[2])\n",
    "        self.y2 = int(xyxy[3])\n",
    "        self.label = label\n",
    "        # Fixme: Adapt label to COCO format in future.\n",
    "        self.pt1 = (self.x1, self.y1)\n",
    "        self.pt2 = (self.x2, self.y2)\n",
    "        self.width = abs(self.x2 - self.x1)\n",
    "        self.height = abs(self.y2 - self.y1)\n",
    "\n",
    "    def to_coco(self) -> List[int]:\n",
    "        return [self.x1, self.y1, self.width, self.height]\n",
    "\n",
    "    def to_yolo(self, img_width: int, img_height: int) -> List[float]:\n",
    "        x_cen = self.x1 + self.width/2\n",
    "        y_cen = self.y1 + self.height/2\n",
    "        x_cen = x_cen / img_width\n",
    "        y_cen = y_cen / img_height\n",
    "        width = self.width / img_width\n",
    "        height = self.height / img_height\n",
    "        return [x_cen, y_cen, width, height]\n",
    "    \n",
    "    def draw(self, img: ArrayLike, color: tuple = (255, 0, 0)) -> ArrayLike:\n",
    "        img = cv2.rectangle(img, self.pt1, self.pt2, color, 2)\n",
    "        return img\n",
    "    \n",
    "class Segment:\n",
    "    def __init__(self, input_annot: List[float | int], label: int):\n",
    "        \"\"\"\n",
    "        Args:\n",
    "            input_annot(list): Segmentation mask points in form of \"x1 y1 x2 y2 ... xn yn\"\n",
    "            label(int): The digit denoting the label of the item.\n",
    "        \"\"\"\n",
    "        self.input_annot_type = input_type\n",
    "        self.input_annot = input_annot\n",
    "        self.pts = self.chunk(input_annot)\n",
    "        self.label = label\n",
    "    \n",
    "    def chunk(self, arr: List) -> List[ArrayLike]:\n",
    "        return [np.array(arr[i:i + 2]).reshape((-1,1,2)).astype(np.int32) for i in range(0, len(arr), 2)]\n",
    "\n",
    "    def segment_to_yolo(self, img_w, img_h):\n",
    "        text = \"\"\n",
    "        for i, p in enumerate(self.input_annot):\n",
    "            if i % 2 == 0: # x points / img_w\n",
    "                text += f\" {p/img_w:.3f}\"\n",
    "            else: # y points / img_h\n",
    "                text += f\" {p/img_h:.3f}\"\n",
    "        return text\n",
    "    \n",
    "    def get_bbox(self) -> Bbox:\n",
    "        Xs = [int(item) for i, item in enumerate(self.input_annot) if i%2 == 0]\n",
    "        Ys = [int(item) for i, item in enumerate(self.input_annot) if i%2 == 1]\n",
    "        x1, y1 = max(Xs), max(Ys)\n",
    "        x2, y2 = min(Xs), min(Ys)\n",
    "        bbox = Bbox([x1, y1, x2, y2], self.label)\n",
    "        return bbox\n",
    "    \n",
    "    def draw(self, img: ArrayLike, color: tuple = (0, 255, 0), draw_bbox = True) -> ArrayLike:\n",
    "        img = cv2.drawContours(img, self.pts, -1, color, 3)\n",
    "        bbox: Bbox = self.get_bbox()\n",
    "        if draw_bbox:\n",
    "            img = bbox.draw(img, color=color)\n",
    "        return img\n",
    "\n",
    "    \n",
    "class ImageAnnot:\n",
    "    # Fixme: Adapt the framework for training bbox annotated project. right now it is decent for segmentation project.\n",
    "    # Decouple Segment with Bbox.\n",
    "    def __init__(self, img_path: str | PosixPath):\n",
    "        \"\"\"\n",
    "        img_path(str | pathlib.PosixPath): image path\n",
    "        \n",
    "        \"\"\"\n",
    "        self.img_path = Path(img_path)\n",
    "        assert self.img_path.is_file()\n",
    "        self.name = self.img_path.name\n",
    "        self.segments = []\n",
    "        self.img_w, self.img_h = self.get_img_size()\n",
    "    \n",
    "    def get_img_size(self):\n",
    "        img = cv2.imread(self.img_path.as_posix())\n",
    "        return img.shape[1], img.shape[0]\n",
    "        \n",
    "    def add_segment(self, segment: Segment) -> None:\n",
    "        self.segments.append(segment)\n",
    "\n",
    "    def get_yolo_format(self, only_bboxes=True):\n",
    "        \"\"\"\n",
    "        the first five numbers still encode the class index and \n",
    "        bounding box information. The rest of the numbers encode \n",
    "        the boundary of the object that we are trying to segment. \n",
    "        Starting from the 6th number, we have space-separated \n",
    "        x-y coordinates for each point on the boundary of the \n",
    "        object for the segmentation mask.\n",
    "        \n",
    "        \"\"\"\n",
    "        temp = \"\"\n",
    "        for i, item in enumerate(self.segments):\n",
    "            label = item.label\n",
    "            x_cen, y_cen, w, h = item.get_bbox().to_yolo(self.img_w, self.img_h)\n",
    "            temp = f\"{label} {x_cen} {y_cen} {w} {h}\"\n",
    "            \n",
    "            if not only_bboxes:\n",
    "                segment_txt = item.segment_to_yolo(self.img_w, self.img_h)\n",
    "                temp += segment_txt\n",
    "\n",
    "            if i != len(self.segments)-1:\n",
    "                temp += '\\n'\n",
    "        return temp\n",
    "\n",
    "    def save_labels(self, save_path: str = \"base_dir\", train: bool = True, only_bboxes: bool = True):\n",
    "        output = self.get_yolo_format(only_bboxes=only_bboxes)\n",
    "        file_name = self.img_path.stem\n",
    "        \n",
    "        if train:\n",
    "            img_path = join(save_path, 'images', 'train')\n",
    "            label_path = join(save_path, 'labels', 'train')\n",
    "        else:\n",
    "            img_path = join(save_path, 'images', 'val')\n",
    "            label_path = join(save_path, 'labels', 'val')\n",
    "\n",
    "        makedirs(label_path, exist_ok=True)\n",
    "        makedirs(img_path, exist_ok=True)\n",
    "        \n",
    "        label_path = join(label_path, file_name + '.txt')\n",
    "        copy2(self.img_path.as_posix(), img_path)\n",
    "        with open(label_path, 'w') as file:\n",
    "            file.write(output)\n",
    "        \n",
    "    def get_coco_format(self):\n",
    "        pass\n",
    "\n",
    "    def img_show(self, color: tuple = (0, 255, 0)):\n",
    "        img = cv2.imread(self.img_path.as_posix())\n",
    "        img = cv2.cvtColor(img, 4)\n",
    "        for segment in self.segments:\n",
    "            img = segment.draw(img, color=color, draw_bbox=True)\n",
    "        return img\n",
    "    \n",
    "    \n",
    "    "
   ]
  },
  {
   "cell_type": "code",
   "execution_count": 18,
   "id": "caefcb0c-e8d8-4069-b4ad-5fc67bbeef62",
   "metadata": {
    "tags": []
   },
   "outputs": [
    {
     "ename": "SyntaxError",
     "evalue": "expected ':' (3078298455.py, line 208)",
     "output_type": "error",
     "traceback": [
      "\u001b[1;36m  Cell \u001b[1;32mIn[18], line 208\u001b[1;36m\u001b[0m\n\u001b[1;33m    def process_tag(image_tag: bs4.element.Tag)\u001b[0m\n\u001b[1;37m                                               ^\u001b[0m\n\u001b[1;31mSyntaxError\u001b[0m\u001b[1;31m:\u001b[0m expected ':'\n"
     ]
    }
   ],
   "source": [
    "# Generate the images before any process for annotations.\n",
    "# Demonstrate for both segmentation and detection at once\n",
    "\n",
    "\n",
    "\n",
    "class AnnotationPreprocessor:\n",
    "    def __init__(self, data_dict: dict):\n",
    "        \"\"\"\n",
    "        data_dict (dict): it's a dictionary that contains the format_type as the key, and \n",
    "                          all depending items of the data format.\n",
    "        \n",
    "        # TODO: convert data into a middle standard format, then convert it to each one if requested.\n",
    "        \n",
    "        Supports yolo.\n",
    "        {'format': 'yolo', 'task': segmentation/detection, 'annotations': 'path/to/yaml_file.yaml', data_path: 'path/to/images'}\n",
    "        {'format': 'coco', 'task': 'segmentation/detection', 'annotations': 'path/to/annotations.json', data_path: 'path/to/images'}\n",
    "        {'format': 'cvat', 'task': 'segmentation/detection', 'annotations': 'path/to/cvat.xml', data_path: 'path/to/video_file.mp4'}\n",
    "        \"\"\"\n",
    "        self.format = data_dict['format']\n",
    "        self.task = data_dict['format'] # segmentation or detection\n",
    "        self.data_file = data_dict['annotations']\n",
    "        self.resource_path = data_dict['data_path']\n",
    "        self.generate_images = data_dict['generate_images']\n",
    "        self.images, self.annotations = self._preprocess(self)\n",
    "\n",
    "    def _preprocess(self):\n",
    "        \"\"\"\n",
    "        convert the input format to a middle format.\n",
    "        \"\"\"\n",
    "        match self.format:\n",
    "            case 'yolo':\n",
    "                pass\n",
    "            case 'coco':\n",
    "                pass\n",
    "            case 'cvat':\n",
    "                self.cap = cv2.VideoCapture(self.resource_path)\n",
    "                assert self.cap.isOpened(), \"video file is not readable!\"\n",
    "                image_tags: List[bs4.element.Tag] = cvat_read_data(self.data_file)\n",
    "                images, annotations = self._preprocess_cvat_data(image_tags, generate_images=True)\n",
    "\n",
    "\n",
    "    def cvat_read_data(self, data: str) -> List[bs4.element.Tag]:\n",
    "        with open(xml, 'r') as f:\n",
    "            data = f.read()\n",
    "        bs_data = BeautifulSoup(data, \"xml\")\n",
    "        image_tags = bs_data.find_all('image')\n",
    "        annots_tags = [i for i in images if i.polygon is not None]\n",
    "        return annots_tags\n",
    "    \n",
    "    @staticmethod\n",
    "    def process_tag(image_tag: bs4.element.Tag) -> List[Tuple[str, int, int, List[int]]]:\n",
    "        items = self.find_children(image_tag, 'polygon')\n",
    "        # TODO: add bbox and segment together support.\n",
    "        # generate the images in the initialization before initializing the annotations.\n",
    "        # Search for the image with name in path/to/images + frame_{id}.png and add its path.\n",
    "        \n",
    "        # img_annot = ImageAnnot(img_path)\n",
    "        for item in items:\n",
    "            _, frame_no, label, points = item\n",
    "            img_annot.add_annot()\n",
    "            \n",
    "        \n",
    "        \n",
    "        \n",
    "        return items\n",
    "    \n",
    "    @staticmethod\n",
    "    def filter_segment_pts(text_points) -> List[int]:\n",
    "        return [int(float(item)) for item in [text_points.replace(';', ' ').replace(',', ' ').split(' ')]]\n",
    "    \n",
    "    def find_children(self, tag) -> List[Tuple[str, int, int, List[int]]]:\n",
    "        items = []\n",
    "        frame_no = int(tag['id'])\n",
    "        for child in tag.children:\n",
    "            if self.task == 'segmentation':\n",
    "                output = ('segmentation', frame_no, child['label'], self.filter_segment_pts(child['points']))\n",
    "                items.append(output)\n",
    "            # TODO: implement the bbox too.\n",
    "            # TODO: add support for having both segmentation and bboxes.\n",
    "        return items\n",
    "    \n",
    "    def _preprocess_yolo(self):\n",
    "        pass\n",
    "    \n",
    "    def _preprocess_coco(self):\n",
    "        pass\n",
    "    \n",
    "    def generate_image(self, )\n",
    "    \n",
    "    def _preprocess_cvat_data(self, image_tags, generate_images=True):\n",
    "        \"\"\"\n",
    "        TODO: \n",
    "            - Fetch multiple bboxes with beautiful soup\n",
    "            - Fetch multiple segmentations with beautiful soup\n",
    "            - Write images\n",
    "        \n",
    "        \"\"\"\n",
    "        segments = []\n",
    "        for image_tag in image_tags:\n",
    "            label, points, frame_no = self.process_tag(image_tag)\n",
    "            if generate_images:\n",
    "                self.cap.set(1, frame_no)\n",
    "                status, frame = self.cap.read()\n",
    "                save_path: PosixPath = Path(self.resource_path).parent / 'images'\n",
    "                save_path.mkdir(exist_ok=True)\n",
    "                save_img = save_path / f'frame_{frame_no}.png'\n",
    "                img_path = save_img.as_posix()\n",
    "                cv2.imwrite(img_path, frame)\n",
    "\n",
    "            img_annot = ImageAnnot(img_path)\n",
    "            \n",
    "    \n",
    "    \n",
    "    def to_yolo(self):\n",
    "        pass\n",
    "    \n",
    "    def to_coco(self):\n",
    "        pass\n",
    "\n"
   ]
  },
  {
   "cell_type": "code",
   "execution_count": 19,
   "id": "580d7a0f-6d5c-4054-9cc2-56ed48846a36",
   "metadata": {
    "tags": []
   },
   "outputs": [],
   "source": [
    "f = Path('images')"
   ]
  },
  {
   "cell_type": "code",
   "execution_count": null,
   "id": "eeb19d9b-550c-4b9b-ba62-b74d5a839486",
   "metadata": {},
   "outputs": [],
   "source": []
  },
  {
   "cell_type": "code",
   "execution_count": 4,
   "id": "16b07d0a-bc32-476a-b1d7-782db1026002",
   "metadata": {
    "tags": []
   },
   "outputs": [
    {
     "name": "stdout",
     "output_type": "stream",
     "text": [
      "5001\n",
      "319\n"
     ]
    }
   ],
   "source": [
    "xml = '../input/videos/8.xml'\n",
    "vid = '../input/videos/8.mp4'\n",
    "\n",
    "with open(xml, 'r') as f:\n",
    "    data = f.read()\n",
    "\n",
    "# the beautifulsoup parser, storing\n",
    "# the returned object \n",
    "bs_data = BeautifulSoup(data, \"xml\")\n",
    " \n",
    "# Finding all instances of tag \n",
    "# `unique`\n",
    "images = bs_data.find_all('image')\n",
    "annotated_images = [i for i in images if i.polygon is not None]\n",
    "print(len(images))\n",
    "print(len(annotated_images))\n",
    "\n",
    "\n",
    "t = annotated_images[0]\n",
    "width = t['width']\n",
    "height = t['height']\n",
    "frame_id = t.id\n",
    "points = t.polygon['points']\n"
   ]
  },
  {
   "cell_type": "code",
   "execution_count": 5,
   "id": "745c6064-223a-4dfe-ac15-dd9f9477a2af",
   "metadata": {
    "tags": []
   },
   "outputs": [
    {
     "data": {
      "text/plain": [
       "<image height=\"1080\" id=\"15050\" name=\"frame_015050\" width=\"1920\">\n",
       "<polygon label=\"ball\" occluded=\"0\" points=\"525.30,589.54;524.71,579.28;524.71,574.58;525.59,569.89;527.65,565.78;530.87,562.26;533.81,558.16;535.86,554.05;540.55,552.88;544.95,551.70;549.36,550.82;554.05,550.82;558.74,551.12;561.68,554.64;565.49,557.57;568.72,560.80;570.18,565.78;571.06,570.48;572.24,574.88;571.94,579.57;571.65,584.26;570.77,589.25;569.30,593.94;568.13,598.34;566.37,602.74;562.56,605.38;558.16,606.85;553.46,608.61;549.06,610.08;544.07,611.25;539.38,611.54;534.69,610.37;531.75,606.85;529.99,602.74;527.65,598.64\" source=\"manual\" z_order=\"0\">\n",
       "</polygon>\n",
       "</image>"
      ]
     },
     "execution_count": 5,
     "metadata": {},
     "output_type": "execute_result"
    }
   ],
   "source": [
    "t"
   ]
  },
  {
   "cell_type": "code",
   "execution_count": 35,
   "id": "4bd8ec58-46c8-4c85-a86b-59ef290e316d",
   "metadata": {
    "tags": []
   },
   "outputs": [
    {
     "data": {
      "text/plain": [
       "'1920'"
      ]
     },
     "execution_count": 35,
     "metadata": {},
     "output_type": "execute_result"
    }
   ],
   "source": [
    "width"
   ]
  },
  {
   "cell_type": "code",
   "execution_count": 36,
   "id": "ad84c734-963d-4904-b48c-c679c3e76818",
   "metadata": {
    "tags": []
   },
   "outputs": [],
   "source": [
    "t.width"
   ]
  },
  {
   "cell_type": "code",
   "execution_count": 37,
   "id": "ab5eac13-f975-481f-aa85-275abd6d74d7",
   "metadata": {
    "tags": []
   },
   "outputs": [
    {
     "data": {
      "text/plain": [
       "['ff', 'ff']"
      ]
     },
     "execution_count": 37,
     "metadata": {},
     "output_type": "execute_result"
    }
   ],
   "source": [
    "'ff.ff'.split('.')"
   ]
  },
  {
   "cell_type": "code",
   "execution_count": 3,
   "id": "ce36e4e6-8237-41b6-9895-db29fe89546d",
   "metadata": {
    "tags": []
   },
   "outputs": [
    {
     "name": "stdout",
     "output_type": "stream",
     "text": [
      "3955\n",
      "25\n"
     ]
    }
   ],
   "source": [
    "with open('../input/annotations.xml') as file:\n",
    "    data = file.read()\n",
    "\n",
    "bs_data = BeautifulSoup(data, \"xml\")\n",
    "\n",
    "images = bs_data.find_all('image')\n",
    "annotated_images = [i for i in images if i.polygon is not None]\n",
    "print(len(images))\n",
    "print(len(annotated_images))"
   ]
  },
  {
   "cell_type": "code",
   "execution_count": 4,
   "id": "fd6e0a8e-ab35-4fe7-a425-2a8474fc84f0",
   "metadata": {
    "collapsed": true,
    "jupyter": {
     "outputs_hidden": true
    },
    "tags": []
   },
   "outputs": [
    {
     "data": {
      "text/plain": [
       "[<image height=\"720\" id=\"99\" name=\"frame_000099\" width=\"1280\">\n",
       " <polygon label=\"ball\" occluded=\"0\" points=\"806.30,87.50;804.30,86.70;802.70,86.40;801.10,85.80;799.90,84.80;799.20,83.30;798.60,81.70;797.50,80.60;796.10,79.90;794.60,79.30;792.90,78.90;791.70,77.90;791.30,76.40;791.30,74.60;791.60,73.00;792.40,71.30;793.50,69.70;794.60,68.10;796.00,66.70;796.90,65.30;797.90,63.90;798.90,62.70;800.30,62.10;801.80,61.70;803.30,61.40;805.10,61.10;806.50,60.50;808.30,60.30;810.10,60.50;811.60,60.70;813.10,60.80;814.60,61.20;816.00,61.90;817.40,62.70;818.30,64.10;819.60,65.10;820.30,66.80;820.90,68.50;821.50,70.30;821.80,71.90;821.10,73.50;819.90,74.60;819.70,76.40;819.70,78.00;819.70,79.60;819.60,81.50;819.10,83.10;818.00,84.20;816.70,85.00;815.30,86.00;813.80,86.50;812.30,87.20;810.80,87.80;809.30,88.00;807.70,88.10\" source=\"manual\" z_order=\"0\">\n",
       " </polygon>\n",
       " </image>,\n",
       " <image height=\"720\" id=\"107\" name=\"frame_000107\" width=\"1280\">\n",
       " <polygon label=\"ball\" occluded=\"0\" points=\"801.06,100.80;797.32,100.18;794.01,97.69;791.31,95.62;789.44,92.71;789.03,89.40;789.44,86.08;790.27,82.97;791.93,80.27;795.04,79.44;797.32,76.96;800.23,75.71;802.92,77.58;806.03,78.61;809.14,79.44;812.05,80.69;815.16,82.35;817.65,84.42;818.06,87.74;818.06,91.26;816.82,94.79;815.36,97.69;812.67,99.35;809.35,99.56;806.24,100.18;803.13,100.59\" source=\"manual\" z_order=\"0\">\n",
       " </polygon>\n",
       " </image>,\n",
       " <image height=\"720\" id=\"110\" name=\"frame_000110\" width=\"1280\">\n",
       " <polygon label=\"ball\" occluded=\"0\" points=\"801.10,129.60;799.60,129.30;797.70,129.00;795.90,128.70;793.90,127.60;792.90,126.40;792.20,125.00;791.90,123.50;791.80,122.00;791.20,120.50;790.70,119.00;791.10,117.40;791.30,115.90;791.30,114.20;791.30,112.50;791.60,111.00;792.70,109.50;793.90,108.40;795.20,107.40;796.50,106.60;797.90,106.00;799.40,105.50;800.90,105.00;802.50,104.60;804.10,104.30;805.70,104.90;807.30,105.90;808.80,106.40;810.50,106.80;812.10,107.40;813.50,108.00;814.80,109.00;816.00,110.20;816.40,111.80;816.30,113.40;815.90,115.00;815.80,116.50;816.00,118.20;816.20,119.80;816.30,121.30;816.30,123.00;816.40,124.60;815.90,126.10;814.60,127.00;813.40,128.10;812.10,129.00;810.70,129.60;809.30,130.20;807.50,130.50;806.00,130.60;804.30,130.60;802.70,130.60\" source=\"manual\" z_order=\"0\">\n",
       " </polygon>\n",
       " </image>,\n",
       " <image height=\"720\" id=\"122\" name=\"frame_000122\" width=\"1280\">\n",
       " <polygon label=\"ball\" occluded=\"0\" points=\"781.40,216.80;779.80,216.80;778.10,216.80;776.60,216.50;775.10,216.10;773.50,215.50;772.30,214.40;771.30,213.20;770.70,211.70;769.90,210.40;769.10,208.80;768.50,207.40;768.20,205.70;768.20,203.70;768.20,202.10;768.20,200.20;768.20,198.60;768.30,197.10;768.60,195.60;769.90,194.40;771.70,193.80;773.30,192.80;774.70,192.10;776.20,191.60;777.80,191.60;779.50,191.70;781.20,192.00;782.60,192.70;784.30,193.50;785.70,194.30;786.80,195.70;787.70,197.00;788.70,198.30;789.80,199.40;790.80,200.60;791.50,202.20;792.10,203.60;792.40,205.10;792.70,206.60;793.00,208.40;793.10,209.90;793.20,211.60;793.40,213.20;793.30,214.80;792.80,216.30;791.90,217.60;790.70,218.70;789.30,219.30;787.70,219.60;786.10,219.60;784.60,219.20;783.00,218.70;781.70,217.80\" source=\"manual\" z_order=\"0\">\n",
       " </polygon>\n",
       " </image>,\n",
       " <image height=\"720\" id=\"127\" name=\"frame_000127\" width=\"1280\">\n",
       " <polygon label=\"ball\" occluded=\"0\" points=\"732.20,152.00;730.30,151.80;729.00,150.80;728.10,149.40;727.00,148.20;726.00,147.00;725.00,145.60;724.60,143.80;724.70,142.20;724.80,140.40;725.00,138.80;725.40,137.20;726.00,135.80;727.40,134.90;729.20,134.10;731.00,133.40;732.30,132.50;733.60,131.20;735.20,131.20;736.90,131.60;738.50,132.40;740.00,133.00;741.60,133.80;742.60,135.00;743.20,136.80;743.40,138.40;743.50,140.00;743.20,142.00;742.80,143.80;742.30,145.40;741.70,146.80;740.60,148.00;739.10,148.70;737.80,149.60;736.60,150.80;735.40,151.80;733.80,152.00\" source=\"manual\" z_order=\"0\">\n",
       " </polygon>\n",
       " </image>,\n",
       " <image height=\"720\" id=\"183\" name=\"frame_000183\" width=\"1280\">\n",
       " <polygon label=\"ball\" occluded=\"0\" points=\"202.00,79.80;200.30,79.90;198.70,79.50;197.30,78.90;195.90,77.50;195.30,76.00;194.60,74.40;194.20,72.90;194.00,71.30;194.30,69.70;195.10,68.10;196.30,66.90;197.70,65.80;199.00,64.90;200.50,64.00;202.00,63.20;203.90,62.90;205.70,62.80;207.30,62.80;208.80,62.90;210.50,63.50;211.90,64.10;212.70,65.50;213.10,67.30;213.50,68.90;213.50,70.50;213.50,72.50;213.50,74.10;213.30,75.60;212.50,77.10;210.90,77.70;209.30,78.30;207.80,78.70;206.10,79.10;204.60,79.40\" source=\"manual\" z_order=\"0\">\n",
       " </polygon>\n",
       " </image>,\n",
       " <image height=\"720\" id=\"188\" name=\"frame_000188\" width=\"1280\">\n",
       " <polygon label=\"ball\" occluded=\"0\" points=\"166.36,164.80;164.68,163.96;162.88,163.84;160.84,163.84;159.04,163.36;157.48,162.04;156.52,160.36;154.84,159.64;153.04,158.68;152.20,157.00;151.72,155.08;151.72,153.16;152.56,151.24;154.48,150.52;156.52,149.80;158.68,149.32;160.72,148.60;162.28,147.64;164.20,147.16;166.12,147.40;167.92,148.00;169.72,148.72;171.40,149.44;172.84,150.88;174.04,152.68;175.00,154.48;175.72,156.64;176.20,158.68;175.96,160.84;175.36,162.76;173.80,164.20;171.88,164.32;169.96,164.32;168.16,164.20\" source=\"manual\" z_order=\"0\">\n",
       " </polygon>\n",
       " </image>,\n",
       " <image height=\"720\" id=\"197\" name=\"frame_000197\" width=\"1280\">\n",
       " <polygon label=\"ball\" occluded=\"0\" points=\"198.50,28.10;196.70,27.70;195.00,27.30;193.40,26.40;192.10,25.10;191.10,23.60;190.50,21.80;190.10,20.20;189.70,18.70;189.50,17.10;190.30,15.80;191.00,14.30;191.70,12.90;192.10,11.40;192.80,9.90;194.20,9.10;195.70,8.40;197.30,8.00;198.90,7.90;200.50,7.80;202.10,7.80;203.70,7.80;205.20,7.50;206.90,7.50;208.60,7.70;209.60,9.30;209.70,11.20;210.00,12.80;210.30,14.30;210.50,16.20;210.80,18.20;210.80,20.10;210.70,21.80;209.90,23.70;208.50,24.90;207.20,25.80;205.90,26.60;204.30,27.30;202.70,27.70;201.10,27.90;199.50,27.90\" source=\"manual\" z_order=\"0\">\n",
       " </polygon>\n",
       " </image>,\n",
       " <image height=\"720\" id=\"285\" name=\"frame_000285\" width=\"1280\">\n",
       " <polygon label=\"ball\" occluded=\"0\" points=\"97.17,362.70;95.73,360.54;94.14,358.67;92.27,357.09;91.12,354.78;90.40,352.62;90.11,350.46;89.53,347.58;89.25,345.42;89.25,343.12;89.25,340.81;90.69,339.09;93.71,337.93;96.45,336.78;99.04,336.06;101.34,336.06;103.65,335.92;106.24,335.49;108.54,335.34;110.85,335.34;113.15,336.21;114.73,338.08;115.60,340.09;116.32,342.69;116.61,345.13;116.61,347.44;116.61,350.03;116.03,352.33;115.45,355.07;115.02,357.23;114.45,359.39;113.44,361.55;111.13,363.28;109.12,364.29;106.81,365.29;104.22,365.58;101.92,365.44;99.90,364.43\" source=\"manual\" z_order=\"0\">\n",
       " </polygon>\n",
       " </image>,\n",
       " <image height=\"720\" id=\"293\" name=\"frame_000293\" width=\"1280\">\n",
       " <polygon label=\"ball\" occluded=\"0\" points=\"235.55,401.10;233.65,400.28;231.75,399.47;229.71,398.38;228.22,396.75;227.40,394.44;227.40,392.14;227.54,389.96;227.40,387.79;226.59,385.75;226.18,383.72;226.18,381.54;227.67,379.64;229.44,378.28;231.48,377.47;233.38,376.65;235.55,376.11;238.00,375.97;240.44,376.11;242.75,376.38;245.19,377.06;247.23,377.88;249.13,378.83;250.90,380.05;252.80,381.41;254.70,382.76;255.79,384.80;256.46,386.84;256.60,389.01;256.60,391.18;256.19,393.36;255.51,395.53;254.70,397.57;252.93,398.93;251.03,399.88;248.72,400.56;246.55,400.96;244.24,401.10;242.07,401.23;239.90,401.51;237.86,401.91\" source=\"manual\" z_order=\"0\">\n",
       " </polygon>\n",
       " </image>,\n",
       " <image height=\"720\" id=\"299\" name=\"frame_000299\" width=\"1280\">\n",
       " <polygon label=\"ball\" occluded=\"0\" points=\"331.20,483.20;329.70,483.60;327.90,483.60;325.80,483.60;323.90,483.10;322.30,482.20;321.00,481.10;319.70,479.80;318.70,478.20;318.30,476.70;317.90,474.50;317.90,472.90;317.70,471.10;317.40,469.20;317.10,467.70;316.80,466.10;316.80,464.50;317.10,462.90;318.00,461.60;319.50,460.70;321.30,459.60;322.90,458.90;324.30,458.20;326.30,457.50;328.10,456.90;329.60,456.60;331.10,456.50;332.70,456.80;334.50,457.30;336.00,457.80;337.70,458.50;339.10,459.50;340.50,460.50;341.80,461.70;343.20,462.90;344.20,464.10;344.80,465.70;344.70,467.30;344.30,468.90;343.90,470.40;343.50,471.90;342.60,473.50;341.70,475.00;340.60,476.50;339.70,477.80;339.10,479.70;338.80,481.20;337.70,482.50;336.30,483.30;334.70,483.80;333.10,483.80\" source=\"manual\" z_order=\"0\">\n",
       " </polygon>\n",
       " </image>,\n",
       " <image height=\"720\" id=\"323\" name=\"frame_000323\" width=\"1280\">\n",
       " <polygon label=\"ball\" occluded=\"0\" points=\"550.10,467.80;548.60,467.90;546.80,467.60;545.40,466.70;544.20,465.70;543.00,464.30;542.20,462.90;541.20,461.50;539.90,460.30;539.00,459.00;538.10,457.60;537.40,456.10;537.00,454.50;536.90,452.90;538.00,451.70;539.60,450.60;540.80,449.60;541.60,448.30;542.40,446.70;543.40,445.50;544.70,444.70;546.20,444.10;547.80,443.80;549.80,443.40;551.30,443.10;553.20,442.90;555.00,442.90;557.00,442.80;558.60,442.80;560.00,443.60;561.40,444.70;562.20,446.00;563.00,447.30;563.60,448.80;564.30,450.30;564.60,452.10;564.60,453.70;564.60,455.50;564.60,457.10;564.60,458.70;564.30,460.20;564.20,461.70;563.80,463.20;562.40,464.30;560.60,465.00;558.80,465.70;557.20,466.10;555.80,466.70;554.20,467.30;552.80,467.90;551.30,468.20\" source=\"manual\" z_order=\"0\">\n",
       " </polygon>\n",
       " </image>,\n",
       " <image height=\"720\" id=\"325\" name=\"frame_000325\" width=\"1280\">\n",
       " <polygon label=\"ball\" occluded=\"0\" points=\"564.10,454.40;562.30,454.70;560.70,454.70;558.80,454.30;557.20,453.90;555.70,453.50;554.30,452.80;553.20,451.60;552.40,450.20;551.90,448.70;551.50,447.10;551.10,445.20;551.00,443.50;551.00,441.70;551.30,440.10;551.70,438.50;551.80,437.00;552.10,435.40;552.90,434.00;554.70,432.90;557.00,431.90;559.10,431.00;560.70,430.60;562.80,430.60;564.70,430.60;566.30,430.60;568.60,430.60;570.20,430.60;572.00,430.70;573.80,431.30;575.30,432.00;576.60,433.20;577.30,435.20;577.70,436.90;578.00,438.50;578.10,440.30;578.30,441.90;578.10,443.70;577.90,445.50;577.50,447.10;576.50,448.70;575.60,450.10;574.80,451.70;573.10,452.90;571.30,453.70;569.70,454.00;568.10,454.30;566.10,454.70;564.70,454.80\" source=\"manual\" z_order=\"0\">\n",
       " </polygon>\n",
       " </image>,\n",
       " <image height=\"720\" id=\"484\" name=\"frame_000484\" width=\"1280\">\n",
       " <polygon label=\"ball\" occluded=\"0\" points=\"812.30,115.50;810.40,115.40;808.60,115.80;806.80,116.20;805.20,116.50;803.40,116.50;801.80,116.20;800.20,115.40;798.90,114.60;797.60,113.40;796.70,112.10;795.90,110.70;795.20,109.30;794.80,107.70;794.40,105.80;794.10,104.20;794.00,102.60;794.30,101.00;795.00,99.40;796.20,97.70;797.40,96.30;798.40,94.90;799.50,93.70;800.90,93.00;802.80,92.50;804.40,92.50;806.10,92.50;807.80,92.40;809.60,92.40;811.40,92.50;813.00,93.00;814.60,93.80;815.70,95.10;816.60,96.60;817.40,98.30;817.60,100.00;817.80,101.60;817.60,103.30;817.20,105.00;816.60,106.40;816.00,108.10;815.70,109.60;815.70,111.20;815.50,112.70;814.60,114.00\" source=\"manual\" z_order=\"0\">\n",
       " </polygon>\n",
       " </image>,\n",
       " <image height=\"720\" id=\"497\" name=\"frame_000497\" width=\"1280\">\n",
       " <polygon label=\"ball\" occluded=\"0\" points=\"804.21,109.69;801.90,109.55;799.60,109.55;797.29,108.69;795.13,107.53;793.12,106.09;791.53,104.08;790.67,101.92;790.67,99.33;790.67,96.73;790.67,94.14;790.96,91.98;792.11,90.11;793.98,88.81;796.43,87.95;798.88,87.09;801.47,86.51;803.77,85.93;806.51,85.93;809.10,86.22;811.26,87.09;813.42,87.81;815.58,89.10;817.17,90.69;818.17,92.70;819.04,94.86;819.76,97.31;819.76,99.76;819.47,102.06;819.04,104.22;817.89,106.09;815.58,106.38;813.42,106.81;810.97,107.53;808.81,108.40;806.65,108.97\" source=\"manual\" z_order=\"0\">\n",
       " </polygon>\n",
       " </image>,\n",
       " <image height=\"720\" id=\"517\" name=\"frame_000517\" width=\"1280\">\n",
       " <polygon label=\"ball\" occluded=\"0\" points=\"777.10,192.30;775.50,191.90;773.80,191.50;772.30,191.40;770.80,191.20;769.30,190.70;768.00,189.90;767.40,188.40;767.10,186.70;766.70,184.90;766.30,183.30;766.00,181.70;766.00,179.80;766.20,178.30;766.60,176.70;767.20,175.20;767.90,173.70;769.20,172.70;770.90,172.30;772.80,171.90;774.60,171.80;776.10,171.70;777.70,171.70;779.20,171.60;780.80,171.50;782.30,171.30;783.90,171.50;785.50,171.70;786.80,172.60;787.80,174.10;788.40,175.50;789.20,176.90;790.00,178.30;790.60,180.20;791.00,181.70;791.00,183.60;790.60,185.20;789.60,186.40;788.80,187.80;787.50,188.90;785.90,189.30;784.80,190.70;784.20,192.10;782.80,192.80;781.10,193.10;779.60,193.50;778.10,192.90\" source=\"manual\" z_order=\"0\">\n",
       " </polygon>\n",
       " </image>,\n",
       " <image height=\"720\" id=\"528\" name=\"frame_000528\" width=\"1280\">\n",
       " <polygon label=\"ball\" occluded=\"0\" points=\"776.41,255.13;778.72,254.56;780.88,253.98;783.04,253.69;784.62,252.11;784.91,249.95;786.78,248.51;787.65,246.35;788.22,244.19;788.22,241.89;787.36,239.87;785.77,238.00;784.19,236.41;782.32,234.97;780.01,234.40;777.28,234.40;774.97,234.69;772.67,235.55;770.94,236.99;770.51,239.15;771.23,241.31;772.09,243.33;772.09,245.63;772.38,247.79;772.67,249.95;772.67,252.25;772.81,254.56;774.69,255.28\" source=\"manual\" z_order=\"0\">\n",
       " </polygon>\n",
       " </image>,\n",
       " <image height=\"720\" id=\"724\" name=\"frame_000724\" width=\"1280\">\n",
       " <polygon label=\"ball\" occluded=\"0\" points=\"732.40,124.40;730.40,124.30;728.70,124.30;727.20,123.70;726.40,122.40;726.40,120.60;726.80,119.10;727.40,117.50;728.10,116.10;728.00,114.50;727.60,113.00;727.20,111.50;727.10,109.80;727.20,108.30;729.00,107.60;730.70,106.90;732.20,106.60;733.80,106.60;735.60,106.70;736.90,107.70;738.00,108.90;739.20,109.90;740.40,110.90;740.90,112.70;740.80,114.50;739.90,116.10;738.80,117.20;738.00,118.60;738.00,120.50;737.20,122.10;736.00,123.10;734.50,123.50\" source=\"manual\" z_order=\"0\">\n",
       " </polygon>\n",
       " </image>,\n",
       " <image height=\"720\" id=\"1167\" name=\"frame_001167\" width=\"1280\">\n",
       " <polygon label=\"ball\" occluded=\"0\" points=\"311.81,271.52;310.22,270.27;308.98,269.03;307.96,267.33;307.17,265.52;306.83,263.82;306.49,262.01;306.38,260.09;306.83,258.39;307.05,256.58;307.17,254.20;307.39,252.05;307.39,250.13;307.39,248.21;306.60,246.39;306.60,244.58;307.28,243.00;308.87,241.64;310.56,240.62;312.94,240.28;315.20,239.94;317.24,239.94;319.05,240.06;320.97,240.28;322.90,241.08;324.71,241.87;326.41,242.32;327.77,243.57;328.56,245.26;328.56,247.53;328.56,249.34;328.56,251.15;328.78,252.96;329.24,254.77;329.46,256.47;329.69,258.28;329.69,260.20;329.69,262.47;329.01,264.50;327.77,266.09;325.84,267.67;323.35,269.03;321.31,270.16;319.73,271.29;317.92,272.08;316.33,272.88;314.64,273.10;313.05,272.42\" source=\"manual\" z_order=\"0\">\n",
       " </polygon>\n",
       " </image>,\n",
       " <image height=\"720\" id=\"1202\" name=\"frame_001202\" width=\"1280\">\n",
       " <polygon label=\"ball\" occluded=\"0\" points=\"389.83,161.54;387.79,160.99;385.48,160.99;382.90,160.99;380.46,160.99;378.01,161.26;375.97,161.54;373.80,161.54;371.76,160.99;370.00,159.91;369.46,157.87;369.05,155.83;369.05,153.52;369.32,151.49;370.13,149.18;370.95,147.14;371.63,144.97;372.31,142.93;373.67,141.30;375.70,140.89;378.01,140.49;380.18,140.49;382.36,140.62;384.67,141.17;386.70,141.57;388.88,142.12;390.64,143.88;391.05,146.05;391.32,148.36;391.32,150.67;391.18,153.12;390.78,155.29;390.37,157.33;390.23,159.50\" source=\"manual\" z_order=\"0\">\n",
       " </polygon>\n",
       " </image>,\n",
       " <image height=\"720\" id=\"1214\" name=\"frame_001214\" width=\"1280\">\n",
       " <polygon label=\"ball\" occluded=\"0\" points=\"507.40,134.40;505.40,134.30;503.80,134.00;501.80,134.00;500.20,133.70;498.40,133.00;497.20,132.00;496.00,130.60;495.50,129.10;495.50,127.40;496.00,125.80;496.00,124.20;496.00,122.60;496.10,121.00;496.40,119.30;497.00,117.80;498.20,116.70;499.70,115.70;501.20,115.10;503.00,114.50;504.50,114.20;506.20,114.10;508.00,114.20;509.60,114.20;511.20,115.20;512.70,116.40;514.20,117.60;515.40,118.70;516.40,120.30;517.20,121.70;517.20,123.80;516.80,125.70;515.90,127.40;514.80,128.90;513.80,130.20;512.50,131.30;511.00,132.20;509.70,133.00\" source=\"manual\" z_order=\"0\">\n",
       " </polygon>\n",
       " </image>,\n",
       " <image height=\"720\" id=\"1215\" name=\"frame_001215\" width=\"1280\">\n",
       " <polygon label=\"ball\" occluded=\"0\" points=\"523.12,127.98;520.67,127.26;518.51,127.41;516.21,127.69;514.19,126.83;513.33,124.81;512.75,122.65;512.46,120.49;512.17,118.19;512.03,116.03;513.04,113.87;514.77,112.43;515.63,110.41;517.79,109.26;520.24,108.97;522.54,108.97;525.13,108.97;527.44,108.97;529.17,110.41;528.88,113.01;528.59,115.17;528.59,117.47;528.59,119.92;528.59,122.37;528.59,124.67;528.73,126.83;526.86,127.98;524.70,127.69\" source=\"manual\" z_order=\"0\">\n",
       " </polygon>\n",
       " </image>,\n",
       " <image height=\"720\" id=\"1220\" name=\"frame_001220\" width=\"1280\">\n",
       " <polygon label=\"ball\" occluded=\"0\" points=\"586.70,136.30;585.10,135.90;583.10,135.90;581.50,135.90;579.80,135.70;578.20,135.20;576.70,134.50;575.50,133.50;575.10,132.00;575.10,130.40;575.10,128.70;575.10,127.10;575.10,125.40;575.50,123.80;576.10,122.30;576.90,121.00;578.30,120.40;579.80,120.10;581.30,120.00;583.10,120.00;584.70,120.10;586.20,120.40;587.70,120.70;589.20,121.30;590.70,121.70;592.00,122.50;592.60,123.90;592.80,125.50;592.70,127.10;592.70,128.70;592.50,130.30;592.50,131.90;592.50,133.50;591.90,134.90;590.70,135.90;589.10,135.90\" source=\"manual\" z_order=\"0\">\n",
       " </polygon>\n",
       " </image>,\n",
       " <image height=\"720\" id=\"1532\" name=\"frame_001532\" width=\"1280\">\n",
       " <polygon label=\"ball\" occluded=\"0\" points=\"662.02,290.68;659.43,291.02;656.84,290.68;654.42,289.29;653.38,286.70;652.17,284.11;650.96,281.69;650.62,279.10;650.79,276.33;651.48,273.74;653.56,272.01;655.97,270.98;658.74,270.46;661.50,270.46;664.10,270.80;666.69,271.67;669.11,272.70;671.18,274.43;672.56,276.68;673.25,279.44;673.25,282.21;673.25,284.97;673.25,287.74;670.84,289.12;668.24,289.64;665.65,290.33\" source=\"manual\" z_order=\"0\">\n",
       " </polygon>\n",
       " </image>,\n",
       " <image height=\"720\" id=\"2651\" name=\"frame_002651\" width=\"1280\">\n",
       " <polygon label=\"ball\" occluded=\"0\" points=\"466.10,131.80;463.98,129.67;461.85,127.73;460.79,125.25;460.61,122.60;461.68,120.12;463.09,117.82;465.21,116.05;467.51,114.46;470.52,113.58;473.53,114.29;476.00,115.52;478.13,117.65;480.42,119.42;481.49,121.89;481.13,124.54;479.19,126.67;476.36,127.73;473.53,127.55;470.87,127.73;470.17,130.38;468.04,132.33;465.39,132.50\" source=\"manual\" z_order=\"0\">\n",
       " </polygon>\n",
       " <polygon label=\"ball\" occluded=\"0\" points=\"467.52,186.20;460.19,184.37;453.58,182.90;445.15,181.80;437.81,179.23;432.31,175.93;427.54,171.17;426.81,164.56;430.11,159.43;435.98,155.76;442.58,154.29;450.65,152.46;456.15,152.09;463.49,152.09;470.09,153.19;476.32,153.19;482.93,152.83;490.63,152.46;496.50,152.46;504.20,152.83;509.70,155.03;515.20,157.96;519.24,162.00;521.80,167.86;522.17,174.83;521.07,180.70;515.94,186.20;508.23,189.50;502.00,192.07;495.76,193.91;490.26,194.64;484.03,196.11;478.16,196.11;472.29,193.17\" source=\"manual\" z_order=\"0\">\n",
       " </polygon>\n",
       " <box label=\"ball\" occluded=\"0\" source=\"manual\" xbr=\"502.69\" xtl=\"397.43\" ybr=\"146.08\" ytl=\"118.94\" z_order=\"0\">\n",
       " </box>\n",
       " </image>]"
      ]
     },
     "execution_count": 4,
     "metadata": {},
     "output_type": "execute_result"
    }
   ],
   "source": [
    "annotated_images"
   ]
  },
  {
   "cell_type": "code",
   "execution_count": 26,
   "id": "7889f8a9-3d77-4bb2-8f77-05c360e66436",
   "metadata": {
    "tags": []
   },
   "outputs": [
    {
     "data": {
      "text/plain": [
       "[<polygon label=\"ball\" occluded=\"0\" points=\"466.10,131.80;463.98,129.67;461.85,127.73;460.79,125.25;460.61,122.60;461.68,120.12;463.09,117.82;465.21,116.05;467.51,114.46;470.52,113.58;473.53,114.29;476.00,115.52;478.13,117.65;480.42,119.42;481.49,121.89;481.13,124.54;479.19,126.67;476.36,127.73;473.53,127.55;470.87,127.73;470.17,130.38;468.04,132.33;465.39,132.50\" source=\"manual\" z_order=\"0\">\n",
       " </polygon>,\n",
       " <polygon label=\"ball\" occluded=\"0\" points=\"467.52,186.20;460.19,184.37;453.58,182.90;445.15,181.80;437.81,179.23;432.31,175.93;427.54,171.17;426.81,164.56;430.11,159.43;435.98,155.76;442.58,154.29;450.65,152.46;456.15,152.09;463.49,152.09;470.09,153.19;476.32,153.19;482.93,152.83;490.63,152.46;496.50,152.46;504.20,152.83;509.70,155.03;515.20,157.96;519.24,162.00;521.80,167.86;522.17,174.83;521.07,180.70;515.94,186.20;508.23,189.50;502.00,192.07;495.76,193.91;490.26,194.64;484.03,196.11;478.16,196.11;472.29,193.17\" source=\"manual\" z_order=\"0\">\n",
       " </polygon>]"
      ]
     },
     "execution_count": 26,
     "metadata": {},
     "output_type": "execute_result"
    }
   ],
   "source": [
    "text2pts = lambda text_points: [int(float(item)) for item in [text_points.replace(';', ' ').replace(',', ' ').split(' ')]] \n",
    "find_children = lambda tag, name: [(name, child['label'], child['points']) for child in tag.children if child.name == name]\n",
    "find_children(annotated_images[-1], 'polygon')\n",
    "boxes = find_children(image, 'box')"
   ]
  },
  {
   "cell_type": "code",
   "execution_count": 28,
   "id": "6ff25702-e5d0-4608-a5ea-b4931039e151",
   "metadata": {
    "tags": []
   },
   "outputs": [
    {
     "data": {
      "text/plain": [
       "<image height=\"720\" id=\"2651\" name=\"frame_002651\" width=\"1280\">\n",
       "<polygon label=\"ball\" occluded=\"0\" points=\"466.10,131.80;463.98,129.67;461.85,127.73;460.79,125.25;460.61,122.60;461.68,120.12;463.09,117.82;465.21,116.05;467.51,114.46;470.52,113.58;473.53,114.29;476.00,115.52;478.13,117.65;480.42,119.42;481.49,121.89;481.13,124.54;479.19,126.67;476.36,127.73;473.53,127.55;470.87,127.73;470.17,130.38;468.04,132.33;465.39,132.50\" source=\"manual\" z_order=\"0\">\n",
       "</polygon>\n",
       "<polygon label=\"ball\" occluded=\"0\" points=\"467.52,186.20;460.19,184.37;453.58,182.90;445.15,181.80;437.81,179.23;432.31,175.93;427.54,171.17;426.81,164.56;430.11,159.43;435.98,155.76;442.58,154.29;450.65,152.46;456.15,152.09;463.49,152.09;470.09,153.19;476.32,153.19;482.93,152.83;490.63,152.46;496.50,152.46;504.20,152.83;509.70,155.03;515.20,157.96;519.24,162.00;521.80,167.86;522.17,174.83;521.07,180.70;515.94,186.20;508.23,189.50;502.00,192.07;495.76,193.91;490.26,194.64;484.03,196.11;478.16,196.11;472.29,193.17\" source=\"manual\" z_order=\"0\">\n",
       "</polygon>\n",
       "<box label=\"ball\" occluded=\"0\" source=\"manual\" xbr=\"502.69\" xtl=\"397.43\" ybr=\"146.08\" ytl=\"118.94\" z_order=\"0\">\n",
       "</box>\n",
       "</image>"
      ]
     },
     "execution_count": 28,
     "metadata": {},
     "output_type": "execute_result"
    }
   ],
   "source": [
    "annotated_images[-1]"
   ]
  },
  {
   "cell_type": "code",
   "execution_count": 27,
   "id": "4a7d9f91-231f-4fbc-be5d-802b6f146fde",
   "metadata": {
    "tags": []
   },
   "outputs": [
    {
     "ename": "NameError",
     "evalue": "name 'image' is not defined",
     "output_type": "error",
     "traceback": [
      "\u001b[1;31m---------------------------------------------------------------------------\u001b[0m",
      "\u001b[1;31mNameError\u001b[0m                                 Traceback (most recent call last)",
      "Cell \u001b[1;32mIn[27], line 1\u001b[0m\n\u001b[1;32m----> 1\u001b[0m \u001b[43mimage\u001b[49m\n",
      "\u001b[1;31mNameError\u001b[0m: name 'image' is not defined"
     ]
    }
   ],
   "source": [
    "image"
   ]
  },
  {
   "cell_type": "code",
   "execution_count": 14,
   "id": "e058b48e-2fd5-41b0-9fe8-7a3a4deb8bea",
   "metadata": {
    "collapsed": true,
    "jupyter": {
     "outputs_hidden": true
    },
    "tags": []
   },
   "outputs": [
    {
     "data": {
      "text/plain": [
       "[525,\n",
       " 589,\n",
       " 524,\n",
       " 579,\n",
       " 524,\n",
       " 574,\n",
       " 525,\n",
       " 569,\n",
       " 527,\n",
       " 565,\n",
       " 530,\n",
       " 562,\n",
       " 533,\n",
       " 558,\n",
       " 535,\n",
       " 554,\n",
       " 540,\n",
       " 552,\n",
       " 544,\n",
       " 551,\n",
       " 549,\n",
       " 550,\n",
       " 554,\n",
       " 550,\n",
       " 558,\n",
       " 551,\n",
       " 561,\n",
       " 554,\n",
       " 565,\n",
       " 557,\n",
       " 568,\n",
       " 560,\n",
       " 570,\n",
       " 565,\n",
       " 571,\n",
       " 570,\n",
       " 572,\n",
       " 574,\n",
       " 571,\n",
       " 579,\n",
       " 571,\n",
       " 584,\n",
       " 570,\n",
       " 589,\n",
       " 569,\n",
       " 593,\n",
       " 568,\n",
       " 598,\n",
       " 566,\n",
       " 602,\n",
       " 562,\n",
       " 605,\n",
       " 558,\n",
       " 606,\n",
       " 553,\n",
       " 608,\n",
       " 549,\n",
       " 610,\n",
       " 544,\n",
       " 611,\n",
       " 539,\n",
       " 611,\n",
       " 534,\n",
       " 610,\n",
       " 531,\n",
       " 606,\n",
       " 529,\n",
       " 602,\n",
       " 527,\n",
       " 598]"
      ]
     },
     "execution_count": 14,
     "metadata": {},
     "output_type": "execute_result"
    }
   ],
   "source": [
    "xys = t.polygon['points'].replace(';', ' ').replace(',', ' ').split(' ')\n",
    "xys = [int(float(item)) for item in xys]\n",
    "xys"
   ]
  },
  {
   "cell_type": "code",
   "execution_count": null,
   "id": "01faff5c-ad19-493e-bba5-5e65efac936e",
   "metadata": {},
   "outputs": [],
   "source": [
    "\n"
   ]
  }
 ],
 "metadata": {
  "kernelspec": {
   "display_name": "python-3.11",
   "language": "python",
   "name": "py311"
  },
  "language_info": {
   "codemirror_mode": {
    "name": "ipython",
    "version": 3
   },
   "file_extension": ".py",
   "mimetype": "text/x-python",
   "name": "python",
   "nbconvert_exporter": "python",
   "pygments_lexer": "ipython3",
   "version": "3.11.5"
  }
 },
 "nbformat": 4,
 "nbformat_minor": 5
}
