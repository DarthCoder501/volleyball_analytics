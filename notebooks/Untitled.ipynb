{
 "cells": [
  {
   "cell_type": "markdown",
   "id": "46460056-5a88-4f62-907d-7be92e20677a",
   "metadata": {
    "tags": []
   },
   "source": [
    "# xml to dict"
   ]
  },
  {
   "cell_type": "code",
   "execution_count": 1,
   "id": "1d07d87a-7897-495a-bf6f-5aae640539ab",
   "metadata": {
    "tags": []
   },
   "outputs": [],
   "source": [
    "import xmltodict\n",
    "import json\n",
    "from collections import namedtuple"
   ]
  },
  {
   "cell_type": "code",
   "execution_count": 2,
   "id": "db77982c-3934-4b00-90b6-a8cda9c3ef2f",
   "metadata": {
    "tags": []
   },
   "outputs": [],
   "source": [
    "def _json_object_hook(d): return namedtuple('X', d.keys())(*d.values())\n",
    "def json2obj(data): return json.loads(open(data).read(), object_hook=_json_object_hook)\n",
    "\n",
    "def xml2object(xml, output_path):\n",
    "    with open(xml) as xml_file:\n",
    "        data_dict = xmltodict.parse(xml_file.read())     \n",
    "        json_data = json.dumps(data_dict)\n",
    "        with open(output_path, \"w\") as json_file:\n",
    "            json_file.write(json_data)\n",
    "    f = open(output_path).read()\n",
    "    f = f.replace(\"@\", '')\n",
    "    f = f.replace(\"#\", \"\")\n",
    "    with open(output_path, 'w') as file:\n",
    "        file.write(f)\n",
    "    return json2obj(output_path)\n",
    "\n",
    "\n",
    "def extract_labels(data):\n",
    "    return [l.name for l in x.annotations.meta.task.labels[0]]\n",
    "\n",
    "input_xml = \"../input/videos/train/annotations/6_classes/2.xml\"\n",
    "data = xml2object(input_xml, 'data.json')"
   ]
  },
  {
   "cell_type": "code",
   "execution_count": null,
   "id": "5c43580a-3827-49a1-9a17-b4c36eb6d2a9",
   "metadata": {},
   "outputs": [],
   "source": []
  },
  {
   "cell_type": "code",
   "execution_count": null,
   "id": "dc88fc95-35cf-4898-be96-bad231effbc9",
   "metadata": {},
   "outputs": [],
   "source": []
  },
  {
   "cell_type": "code",
   "execution_count": null,
   "id": "03a88767-b531-4ae4-b79c-229c95c9125d",
   "metadata": {},
   "outputs": [],
   "source": []
  },
  {
   "cell_type": "code",
   "execution_count": null,
   "id": "5b427687-88a8-4fd8-b8f2-679440bada17",
   "metadata": {},
   "outputs": [],
   "source": []
  },
  {
   "cell_type": "code",
   "execution_count": null,
   "id": "16d1997f-7ece-4ebd-b7e5-3ecd28f444ac",
   "metadata": {},
   "outputs": [],
   "source": []
  },
  {
   "cell_type": "code",
   "execution_count": null,
   "id": "7da154d7-e26f-491e-ae97-4e2a7f920461",
   "metadata": {},
   "outputs": [],
   "source": []
  },
  {
   "cell_type": "code",
   "execution_count": null,
   "id": "5cdd31fd-c150-471d-bee1-d71e2d0c249b",
   "metadata": {},
   "outputs": [],
   "source": []
  }
 ],
 "metadata": {
  "kernelspec": {
   "display_name": "python-3.11",
   "language": "python",
   "name": "py311"
  },
  "language_info": {
   "codemirror_mode": {
    "name": "ipython",
    "version": 3
   },
   "file_extension": ".py",
   "mimetype": "text/x-python",
   "name": "python",
   "nbconvert_exporter": "python",
   "pygments_lexer": "ipython3",
   "version": "3.11.5"
  }
 },
 "nbformat": 4,
 "nbformat_minor": 5
}
