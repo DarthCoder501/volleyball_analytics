{
 "cells": [
  {
   "cell_type": "markdown",
   "id": "46460056-5a88-4f62-907d-7be92e20677a",
   "metadata": {
    "tags": []
   },
   "source": [
    "# Convert CVAT format to yolo"
   ]
  },
  {
   "cell_type": "code",
   "execution_count": 29,
   "id": "1d07d87a-7897-495a-bf6f-5aae640539ab",
   "metadata": {
    "tags": []
   },
   "outputs": [],
   "source": [
    "import xmltodict\n",
    "import json\n",
    "from collections import namedtuple\n",
    "from tqdm import tqdm\n",
    "from tqdm.notebook import tqdm as ntqdm\n",
    "from os.path import join, isdir, isfile\n",
    "from os import makedirs\n",
    "from shutil import copy2\n",
    "import cv2\n",
    "from utils import Segment, Bbox, ImageAnnot\n",
    "from pathlib import Path\n",
    "from random import shuffle"
   ]
  },
  {
   "cell_type": "markdown",
   "id": "3854798a-e975-4a6f-85ec-cea473b107ae",
   "metadata": {},
   "source": [
    "## Utility functions"
   ]
  },
  {
   "cell_type": "code",
   "execution_count": 34,
   "id": "20bc39bf-f7de-4437-bdce-07e765fdaf72",
   "metadata": {
    "tags": []
   },
   "outputs": [],
   "source": [
    "def _json_object_hook(d): \n",
    "    return namedtuple('X', d.keys())(*d.values())\n",
    "\n",
    "def json2obj(data): \n",
    "    return json.loads(open(data).read(), object_hook=_json_object_hook)\n",
    "\n",
    "def xml2object(xml: str, output_path: str):\n",
    "    with open(xml) as xml_file:\n",
    "        data_dict = xmltodict.parse(xml_file.read())     \n",
    "        json_data = json.dumps(data_dict)\n",
    "        with open(output_path, \"w\") as json_file:\n",
    "            json_file.write(json_data)\n",
    "    f = open(output_path).read()\n",
    "    f = f.replace(\"@\", '')\n",
    "    f = f.replace(\"#\", \"\")\n",
    "    with open(output_path, 'w') as file:\n",
    "        file.write(f)\n",
    "    return json2obj(output_path)\n",
    "\n",
    "\n",
    "def get_labels(data: namedtuple):\n",
    "    # Extract labels from converted object\n",
    "    return [l.name for l in data.annotations.meta.task.labels[0]]\n",
    "\n",
    "def get_images_with_annots(data: namedtuple):\n",
    "    return [item for item in data.annotations.image if 'polygon' in item._asdict() or 'box' in item._asdict()]\n",
    "\n",
    "def filter_some_annots(imgs_list: list):\n",
    "    temp = []\n",
    "    for img in ntqdm(imgs_list):\n",
    "        try:\n",
    "            if img.box.label == 'set' and img.box.attribute.text == 'fore-arms':\n",
    "                continue\n",
    "            elif img.box.label == 'receive' and img.box.attribute.text == 'setting-dig':\n",
    "                continue\n",
    "            else:\n",
    "                temp.append(img)\n",
    "        except:\n",
    "            temp.append(img)\n",
    "    return temp\n",
    "\n",
    "def get_video_name(data: namedtuple):\n",
    "    return data.annotations.meta.task.name"
   ]
  },
  {
   "cell_type": "markdown",
   "id": "cc5be750-2b41-4a17-bef3-c5ff89bf2c70",
   "metadata": {},
   "source": [
    "## Prepare input/output files and paths"
   ]
  },
  {
   "cell_type": "code",
   "execution_count": 34,
   "id": "5289bce7-29ea-4c34-a424-ef26721fb99f",
   "metadata": {
    "tags": []
   },
   "outputs": [
    {
     "data": {
      "application/vnd.jupyter.widget-view+json": {
       "model_id": "464536c2d17d41c2acfac96fe93d9536",
       "version_major": 2,
       "version_minor": 0
      },
      "text/plain": [
       "  0%|          | 0/647 [00:00<?, ?it/s]"
      ]
     },
     "metadata": {},
     "output_type": "display_data"
    }
   ],
   "source": [
    "base_path = '../input/videos/train/'\n",
    "input_xml = Path(base_path) / \"annotations/6_classes/3.xml\"\n",
    "data = xml2object(input_xml, 'data.json')\n",
    "\n",
    "labels = get_labels(data)\n",
    "img_annots = get_images_with_annots(data)\n",
    "img_annots = filter_some_annots(img_annots)\n",
    "video_file = get_video_name(data)\n",
    "video_path = Path(base_path) / video_file\n",
    "assert input_xml.is_file()\n",
    "assert video_path.is_file()\n",
    "\n",
    "cap = cv2.VideoCapture(video_path.as_posix())\n",
    "assert cap.isOpened(), \"video file not opened....\""
   ]
  },
  {
   "cell_type": "markdown",
   "id": "aa89675d-05e3-42ee-803f-b29c22380b58",
   "metadata": {},
   "source": [
    "## Loop over annotations and creating images/labels"
   ]
  },
  {
   "cell_type": "code",
   "execution_count": 35,
   "id": "415f420e-7238-4369-9e82-ee6d1e343321",
   "metadata": {
    "tags": []
   },
   "outputs": [
    {
     "data": {
      "text/plain": [
       "{'ball': 0, 'block': 1, 'receive': 2, 'set': 3, 'spike': 4, 'serve': 5}"
      ]
     },
     "execution_count": 35,
     "metadata": {},
     "output_type": "execute_result"
    }
   ],
   "source": [
    "labels2ix = {label: i for i, label in enumerate(labels)}\n",
    "labels2ix"
   ]
  },
  {
   "cell_type": "code",
   "execution_count": 36,
   "id": "75e34e01-605d-464d-a57c-e9b757992c00",
   "metadata": {
    "tags": []
   },
   "outputs": [],
   "source": [
    "train_img_dir = \"data/images/train\"\n",
    "val_img_dir = \"data/images/val\"\n",
    "\n",
    "train_label_dir = \"data/detection/labels/train\"\n",
    "val_label_dir = \"data/detection/labels/val\"\n",
    "\n",
    "seg_train_label_dir = \"data/segment/labels/train\"\n",
    "seg_val_label_dir = \"data/segment/labels/val\"\n",
    "\n",
    "\n",
    "for i in [train_img_dir, val_img_dir, train_label_dir, val_label_dir, \n",
    "          seg_train_label_dir, seg_val_label_dir]:\n",
    "    makedirs(i, exist_ok=True)\n",
    "\n",
    "\n",
    "shuffle(img_annots)\n",
    "train_size = int(len(img_annots) * 0.9)"
   ]
  },
  {
   "cell_type": "code",
   "execution_count": 37,
   "id": "c3b098a5-40d1-44d7-8f0d-24917d5e6d8c",
   "metadata": {
    "tags": []
   },
   "outputs": [
    {
     "data": {
      "application/vnd.jupyter.widget-view+json": {
       "model_id": "340e41c35a3c46ad96322698e81b2773",
       "version_major": 2,
       "version_minor": 0
      },
      "text/plain": [
       "  0%|          | 0/642 [00:00<?, ?it/s]"
      ]
     },
     "metadata": {},
     "output_type": "display_data"
    }
   ],
   "source": [
    "for idx, img_annot in enumerate(ntqdm(img_annots)):\n",
    "    img_annot = img_annot._asdict()\n",
    "    ball_segments = []\n",
    "    ball_bboxes = []\n",
    "    txt_segment = ''\n",
    "    polygons = []\n",
    "    txt_boxes = ''\n",
    "    temp = []\n",
    "    \n",
    "    # handle frame extraction\n",
    "    frame_id = int(img_annot['id'])\n",
    "    cap.set(1, frame_id)\n",
    "    _, frame = cap.read()\n",
    "    img_h, img_w, _ = frame.shape\n",
    "    \n",
    "    # Extract ball info (segmentation mask points and bounding box)\n",
    "    if 'polygon' in img_annot:\n",
    "        polygons = [img_annot['polygon']] if not isinstance(img_annot['polygon'], list) else img_annot['polygon']\n",
    "        \n",
    "        for j, p in enumerate(polygons):\n",
    "            polygon = p.points\n",
    "            polygon_label = p.label\n",
    "            points = [int(float(item)) for item in polygon.replace(';', ' ').replace(',', ' ').split(' ')]\n",
    "\n",
    "            ball_segment = Segment(points, labels2ix[polygon_label])\n",
    "            ball_bbox = ball_segment.get_bbox()\n",
    "            \n",
    "            txt_segment += ball_segment.segment_to_yolo(img_w, img_h)\n",
    "            if j != len(polygons)-1:\n",
    "                txt_segment += '\\n'\n",
    "            ball_bboxes.append(ball_bbox)\n",
    "\n",
    "    # Handle bounding boxes (add ball bounding box as well).\n",
    "    \n",
    "    if 'box' in img_annot:\n",
    "        if isinstance(img_annot['box'], list):\n",
    "            boxes = img_annot['box']\n",
    "        else:\n",
    "            boxes = [img_annot['box']]\n",
    "    else:\n",
    "        boxes = []\n",
    "\n",
    "    for box in boxes:\n",
    "        b = Bbox((int(float(box.xtl)), int(float(box.ytl)), int(float(box.xbr)), int(float(box.ybr))), labels2ix[box.label])\n",
    "        temp.append(b)\n",
    "\n",
    "    boxes = temp.copy()\n",
    "    if len(ball_bboxes):\n",
    "        boxes.extend(ball_bboxes)\n",
    "    \n",
    "    # for p in boxes\n",
    "    sorted(boxes, key=lambda x: x.label, reverse=True)\n",
    "    \n",
    "    # Generate yolo segment/bbox label...\n",
    "    for ii, box in enumerate(boxes):\n",
    "        yolo_fmt = box.to_yolo(img_w, img_h)\n",
    "        if ii != len(boxes) - 1:\n",
    "            yolo_fmt += '\\n'\n",
    "        txt_boxes += yolo_fmt\n",
    "    \n",
    "    # Save image/label file in specified path\n",
    "    file_stem = f\"{video_path.stem}-frame_{frame_id}\"\n",
    "\n",
    "    if idx < train_size:\n",
    "        img_path = f'{train_img_dir}/{file_stem}.png'\n",
    "        seg_path = f'{seg_train_label_dir}/{file_stem}.txt'\n",
    "        det_path = f'{train_label_dir}/{file_stem}.txt'\n",
    "    else:\n",
    "        img_path = f'{val_img_dir}/{file_stem}.png'\n",
    "        seg_path = f'{seg_val_label_dir}/{file_stem}.txt'\n",
    "        det_path = f'{val_label_dir}/{file_stem}.txt'\n",
    "    \n",
    "    cv2.imwrite(img_path, frame)\n",
    "    with open(det_path, 'w') as det_file:\n",
    "        det_file.write(txt_boxes)\n",
    "\n",
    "    with open(seg_path, 'w') as seg_file:\n",
    "        seg_file.write(txt_segment)"
   ]
  },
  {
   "cell_type": "code",
   "execution_count": null,
   "id": "a06e743d-d2db-40b6-b41a-8815c1515ffd",
   "metadata": {},
   "outputs": [],
   "source": []
  },
  {
   "cell_type": "code",
   "execution_count": null,
   "id": "c5c08754-52bb-4c9e-a780-5a1a1033d973",
   "metadata": {},
   "outputs": [],
   "source": []
  },
  {
   "cell_type": "code",
   "execution_count": null,
   "id": "5b427687-88a8-4fd8-b8f2-679440bada17",
   "metadata": {},
   "outputs": [],
   "source": []
  },
  {
   "cell_type": "code",
   "execution_count": null,
   "id": "16d1997f-7ece-4ebd-b7e5-3ecd28f444ac",
   "metadata": {},
   "outputs": [],
   "source": []
  },
  {
   "cell_type": "code",
   "execution_count": null,
   "id": "7da154d7-e26f-491e-ae97-4e2a7f920461",
   "metadata": {},
   "outputs": [],
   "source": []
  },
  {
   "cell_type": "code",
   "execution_count": null,
   "id": "5cdd31fd-c150-471d-bee1-d71e2d0c249b",
   "metadata": {},
   "outputs": [],
   "source": []
  }
 ],
 "metadata": {
  "kernelspec": {
   "display_name": "p",
   "language": "python",
   "name": "p"
  },
  "language_info": {
   "codemirror_mode": {
    "name": "ipython",
    "version": 3
   },
   "file_extension": ".py",
   "mimetype": "text/x-python",
   "name": "python",
   "nbconvert_exporter": "python",
   "pygments_lexer": "ipython3",
   "version": "3.11.5"
  }
 },
 "nbformat": 4,
 "nbformat_minor": 5
}
